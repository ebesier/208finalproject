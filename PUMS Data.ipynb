{
 "cells": [
  {
   "cell_type": "code",
   "execution_count": 1,
   "id": "0992513d",
   "metadata": {},
   "outputs": [],
   "source": [
    "import seaborn as sns\n",
    "import numpy as np\n",
    "import matplotlib.pyplot as plt\n",
    "import pandas as pd"
   ]
  },
  {
   "cell_type": "code",
   "execution_count": 2,
   "id": "86ef591f",
   "metadata": {},
   "outputs": [
    {
     "data": {
      "text/html": [
       "<div>\n",
       "<style scoped>\n",
       "    .dataframe tbody tr th:only-of-type {\n",
       "        vertical-align: middle;\n",
       "    }\n",
       "\n",
       "    .dataframe tbody tr th {\n",
       "        vertical-align: top;\n",
       "    }\n",
       "\n",
       "    .dataframe thead th {\n",
       "        text-align: right;\n",
       "    }\n",
       "</style>\n",
       "<table border=\"1\" class=\"dataframe\">\n",
       "  <thead>\n",
       "    <tr style=\"text-align: right;\">\n",
       "      <th></th>\n",
       "      <th>epoch</th>\n",
       "      <th>loss</th>\n",
       "      <th>accuracy</th>\n",
       "      <th>val_loss</th>\n",
       "      <th>val_accuracy</th>\n",
       "      <th>epsilon</th>\n",
       "      <th>delta</th>\n",
       "      <th>best</th>\n",
       "    </tr>\n",
       "  </thead>\n",
       "  <tbody>\n",
       "    <tr>\n",
       "      <th>0</th>\n",
       "      <td>0</td>\n",
       "      <td>1.8827</td>\n",
       "      <td>0.3258</td>\n",
       "      <td>1.7265</td>\n",
       "      <td>0.3775</td>\n",
       "      <td>0.0302</td>\n",
       "      <td>0.0</td>\n",
       "      <td>0</td>\n",
       "    </tr>\n",
       "    <tr>\n",
       "      <th>1</th>\n",
       "      <td>1</td>\n",
       "      <td>1.8068</td>\n",
       "      <td>0.3368</td>\n",
       "      <td>1.6689</td>\n",
       "      <td>0.3941</td>\n",
       "      <td>13.0314</td>\n",
       "      <td>0.0</td>\n",
       "      <td>0</td>\n",
       "    </tr>\n",
       "    <tr>\n",
       "      <th>2</th>\n",
       "      <td>2</td>\n",
       "      <td>1.7731</td>\n",
       "      <td>0.3541</td>\n",
       "      <td>1.6188</td>\n",
       "      <td>0.4187</td>\n",
       "      <td>13.7069</td>\n",
       "      <td>0.0</td>\n",
       "      <td>0</td>\n",
       "    </tr>\n",
       "    <tr>\n",
       "      <th>3</th>\n",
       "      <td>3</td>\n",
       "      <td>1.7291</td>\n",
       "      <td>0.3775</td>\n",
       "      <td>1.5171</td>\n",
       "      <td>0.4491</td>\n",
       "      <td>14.3824</td>\n",
       "      <td>0.0</td>\n",
       "      <td>0</td>\n",
       "    </tr>\n",
       "    <tr>\n",
       "      <th>4</th>\n",
       "      <td>4</td>\n",
       "      <td>1.6546</td>\n",
       "      <td>0.4239</td>\n",
       "      <td>1.3319</td>\n",
       "      <td>0.5536</td>\n",
       "      <td>15.0579</td>\n",
       "      <td>0.0</td>\n",
       "      <td>0</td>\n",
       "    </tr>\n",
       "  </tbody>\n",
       "</table>\n",
       "</div>"
      ],
      "text/plain": [
       "   epoch    loss  accuracy  val_loss  val_accuracy  epsilon  delta  best\n",
       "0      0  1.8827    0.3258    1.7265        0.3775   0.0302    0.0     0\n",
       "1      1  1.8068    0.3368    1.6689        0.3941  13.0314    0.0     0\n",
       "2      2  1.7731    0.3541    1.6188        0.4187  13.7069    0.0     0\n",
       "3      3  1.7291    0.3775    1.5171        0.4491  14.3824    0.0     0\n",
       "4      4  1.6546    0.4239    1.3319        0.5536  15.0579    0.0     0"
      ]
     },
     "execution_count": 2,
     "metadata": {},
     "output_type": "execute_result"
    }
   ],
   "source": [
    "hist = pd.read_csv(\"https://raw.githubusercontent.com/ebesier/208finalproject/main/checkpoints_pums/model_history.csv\")\n",
    "hist.head()"
   ]
  },
  {
   "cell_type": "code",
   "execution_count": 3,
   "id": "9ef5ead1",
   "metadata": {},
   "outputs": [
    {
     "data": {
      "image/png": "[encoded data removed]",
      "text/plain": [
       "<Figure size 432x288 with 1 Axes>"
      ]
     },
     "metadata": {},
     "output_type": "display_data"
    }
   ],
   "source": [
    "# Plot epsilon growth.\n",
    "\n",
    "sns.set()\n",
    "\n",
    "x = hist[['epoch']]\n",
    "y = hist[['epsilon']]\n",
    "\n",
    "plt.plot(x, y)\n",
    "plt.xlabel('epoch')\n",
    "plt.ylabel(r'$\\epsilon$')\n",
    "plt.title('Privacy over Epochs');"
   ]
  },
  {
   "cell_type": "code",
   "execution_count": 4,
   "id": "6615e4d3",
   "metadata": {},
   "outputs": [
    {
     "data": {
      "image/png": "[encoded data removed]",
      "text/plain": [
       "<Figure size 432x288 with 1 Axes>"
      ]
     },
     "metadata": {},
     "output_type": "display_data"
    }
   ],
   "source": [
    "sns.set()\n",
    "\n",
    "x = hist[['epoch']]\n",
    "y = hist[['loss']]\n",
    "\n",
    "plt.plot(x, y)\n",
    "plt.xlabel('epoch')\n",
    "plt.ylabel('loss')\n",
    "plt.title('Loss over Epochs');"
   ]
  },
  {
   "cell_type": "code",
   "execution_count": 5,
   "id": "be0cf4d1",
   "metadata": {},
   "outputs": [],
   "source": [
    "import pandas as pd\n",
    "\n",
    "# Read in PUMS data\n",
    "data_original = pd.read_csv(\"https://raw.githubusercontent.com/privacytoolsproject/cs208/master/data/MaPUMS5full.csv\")"
   ]
  },
  {
   "cell_type": "code",
   "execution_count": 6,
   "id": "02416af7",
   "metadata": {},
   "outputs": [
    {
     "data": {
      "text/plain": [
       "-10800.0"
      ]
     },
     "execution_count": 6,
     "metadata": {},
     "output_type": "execute_result"
    }
   ],
   "source": [
    "min(data_original['income'])"
   ]
  },
  {
   "cell_type": "code",
   "execution_count": 7,
   "id": "0da04fcf",
   "metadata": {},
   "outputs": [],
   "source": [
    "# Read in synthetic data\n",
    "\n",
    "data_synthetic = pd.read_csv(\"https://raw.githubusercontent.com/ebesier/208finalproject/main/syn_data_pums.txt\", header = None)"
   ]
  },
  {
   "cell_type": "code",
   "execution_count": 8,
   "id": "09336d83",
   "metadata": {},
   "outputs": [],
   "source": [
    "\n",
    "data_synthetic.columns = data_original.columns"
   ]
  },
  {
   "cell_type": "code",
   "execution_count": 9,
   "id": "9c6af7e3",
   "metadata": {},
   "outputs": [
    {
     "data": {
      "text/html": [
       "<div>\n",
       "<style scoped>\n",
       "    .dataframe tbody tr th:only-of-type {\n",
       "        vertical-align: middle;\n",
       "    }\n",
       "\n",
       "    .dataframe tbody tr th {\n",
       "        vertical-align: top;\n",
       "    }\n",
       "\n",
       "    .dataframe thead th {\n",
       "        text-align: right;\n",
       "    }\n",
       "</style>\n",
       "<table border=\"1\" class=\"dataframe\">\n",
       "  <thead>\n",
       "    <tr style=\"text-align: right;\">\n",
       "      <th></th>\n",
       "      <th>state</th>\n",
       "      <th>puma</th>\n",
       "      <th>sex</th>\n",
       "      <th>age</th>\n",
       "      <th>educ</th>\n",
       "      <th>income</th>\n",
       "      <th>latino</th>\n",
       "      <th>black</th>\n",
       "      <th>asian</th>\n",
       "      <th>married</th>\n",
       "      <th>divorced</th>\n",
       "      <th>uscitizen</th>\n",
       "      <th>children</th>\n",
       "      <th>disability</th>\n",
       "      <th>militaryservice</th>\n",
       "      <th>employed</th>\n",
       "      <th>englishability</th>\n",
       "      <th>fips</th>\n",
       "    </tr>\n",
       "  </thead>\n",
       "  <tbody>\n",
       "    <tr>\n",
       "      <th>0</th>\n",
       "      <td>25</td>\n",
       "      <td>100</td>\n",
       "      <td>0</td>\n",
       "      <td>33</td>\n",
       "      <td>10</td>\n",
       "      <td>35000.0</td>\n",
       "      <td>0</td>\n",
       "      <td>0</td>\n",
       "      <td>0</td>\n",
       "      <td>1</td>\n",
       "      <td>0</td>\n",
       "      <td>1</td>\n",
       "      <td>0</td>\n",
       "      <td>0</td>\n",
       "      <td>0</td>\n",
       "      <td>1</td>\n",
       "      <td>1</td>\n",
       "      <td>25003</td>\n",
       "    </tr>\n",
       "    <tr>\n",
       "      <th>1</th>\n",
       "      <td>25</td>\n",
       "      <td>100</td>\n",
       "      <td>0</td>\n",
       "      <td>60</td>\n",
       "      <td>10</td>\n",
       "      <td>1900.0</td>\n",
       "      <td>0</td>\n",
       "      <td>0</td>\n",
       "      <td>0</td>\n",
       "      <td>1</td>\n",
       "      <td>0</td>\n",
       "      <td>1</td>\n",
       "      <td>0</td>\n",
       "      <td>1</td>\n",
       "      <td>0</td>\n",
       "      <td>0</td>\n",
       "      <td>1</td>\n",
       "      <td>25003</td>\n",
       "    </tr>\n",
       "    <tr>\n",
       "      <th>2</th>\n",
       "      <td>25</td>\n",
       "      <td>100</td>\n",
       "      <td>1</td>\n",
       "      <td>60</td>\n",
       "      <td>9</td>\n",
       "      <td>0.0</td>\n",
       "      <td>0</td>\n",
       "      <td>0</td>\n",
       "      <td>0</td>\n",
       "      <td>1</td>\n",
       "      <td>0</td>\n",
       "      <td>1</td>\n",
       "      <td>0</td>\n",
       "      <td>0</td>\n",
       "      <td>0</td>\n",
       "      <td>0</td>\n",
       "      <td>1</td>\n",
       "      <td>25003</td>\n",
       "    </tr>\n",
       "    <tr>\n",
       "      <th>3</th>\n",
       "      <td>25</td>\n",
       "      <td>100</td>\n",
       "      <td>0</td>\n",
       "      <td>34</td>\n",
       "      <td>9</td>\n",
       "      <td>17000.0</td>\n",
       "      <td>0</td>\n",
       "      <td>0</td>\n",
       "      <td>0</td>\n",
       "      <td>0</td>\n",
       "      <td>0</td>\n",
       "      <td>1</td>\n",
       "      <td>0</td>\n",
       "      <td>0</td>\n",
       "      <td>0</td>\n",
       "      <td>1</td>\n",
       "      <td>1</td>\n",
       "      <td>25003</td>\n",
       "    </tr>\n",
       "    <tr>\n",
       "      <th>4</th>\n",
       "      <td>25</td>\n",
       "      <td>100</td>\n",
       "      <td>0</td>\n",
       "      <td>28</td>\n",
       "      <td>9</td>\n",
       "      <td>19300.0</td>\n",
       "      <td>0</td>\n",
       "      <td>0</td>\n",
       "      <td>0</td>\n",
       "      <td>1</td>\n",
       "      <td>0</td>\n",
       "      <td>1</td>\n",
       "      <td>0</td>\n",
       "      <td>0</td>\n",
       "      <td>1</td>\n",
       "      <td>1</td>\n",
       "      <td>1</td>\n",
       "      <td>25003</td>\n",
       "    </tr>\n",
       "    <tr>\n",
       "      <th>241825</th>\n",
       "      <td>25</td>\n",
       "      <td>900</td>\n",
       "      <td>1</td>\n",
       "      <td>47</td>\n",
       "      <td>9</td>\n",
       "      <td>37000.0</td>\n",
       "      <td>0</td>\n",
       "      <td>0</td>\n",
       "      <td>0</td>\n",
       "      <td>0</td>\n",
       "      <td>1</td>\n",
       "      <td>1</td>\n",
       "      <td>0</td>\n",
       "      <td>1</td>\n",
       "      <td>0</td>\n",
       "      <td>1</td>\n",
       "      <td>1</td>\n",
       "      <td>25009</td>\n",
       "    </tr>\n",
       "    <tr>\n",
       "      <th>241826</th>\n",
       "      <td>25</td>\n",
       "      <td>900</td>\n",
       "      <td>1</td>\n",
       "      <td>62</td>\n",
       "      <td>4</td>\n",
       "      <td>0.0</td>\n",
       "      <td>0</td>\n",
       "      <td>0</td>\n",
       "      <td>0</td>\n",
       "      <td>1</td>\n",
       "      <td>0</td>\n",
       "      <td>1</td>\n",
       "      <td>0</td>\n",
       "      <td>0</td>\n",
       "      <td>0</td>\n",
       "      <td>0</td>\n",
       "      <td>1</td>\n",
       "      <td>25009</td>\n",
       "    </tr>\n",
       "    <tr>\n",
       "      <th>241827</th>\n",
       "      <td>25</td>\n",
       "      <td>900</td>\n",
       "      <td>0</td>\n",
       "      <td>78</td>\n",
       "      <td>10</td>\n",
       "      <td>16700.0</td>\n",
       "      <td>0</td>\n",
       "      <td>0</td>\n",
       "      <td>0</td>\n",
       "      <td>1</td>\n",
       "      <td>0</td>\n",
       "      <td>1</td>\n",
       "      <td>0</td>\n",
       "      <td>1</td>\n",
       "      <td>1</td>\n",
       "      <td>0</td>\n",
       "      <td>1</td>\n",
       "      <td>25009</td>\n",
       "    </tr>\n",
       "    <tr>\n",
       "      <th>241828</th>\n",
       "      <td>25</td>\n",
       "      <td>900</td>\n",
       "      <td>1</td>\n",
       "      <td>48</td>\n",
       "      <td>13</td>\n",
       "      <td>36950.0</td>\n",
       "      <td>0</td>\n",
       "      <td>0</td>\n",
       "      <td>0</td>\n",
       "      <td>0</td>\n",
       "      <td>1</td>\n",
       "      <td>1</td>\n",
       "      <td>0</td>\n",
       "      <td>1</td>\n",
       "      <td>0</td>\n",
       "      <td>1</td>\n",
       "      <td>1</td>\n",
       "      <td>25009</td>\n",
       "    </tr>\n",
       "    <tr>\n",
       "      <th>241829</th>\n",
       "      <td>25</td>\n",
       "      <td>900</td>\n",
       "      <td>0</td>\n",
       "      <td>34</td>\n",
       "      <td>13</td>\n",
       "      <td>35000.0</td>\n",
       "      <td>0</td>\n",
       "      <td>0</td>\n",
       "      <td>0</td>\n",
       "      <td>0</td>\n",
       "      <td>0</td>\n",
       "      <td>1</td>\n",
       "      <td>0</td>\n",
       "      <td>0</td>\n",
       "      <td>0</td>\n",
       "      <td>0</td>\n",
       "      <td>1</td>\n",
       "      <td>25009</td>\n",
       "    </tr>\n",
       "  </tbody>\n",
       "</table>\n",
       "</div>"
      ],
      "text/plain": [
       "        state  puma  sex  age  educ   income  latino  black  asian  married  \\\n",
       "0          25   100    0   33    10  35000.0       0      0      0        1   \n",
       "1          25   100    0   60    10   1900.0       0      0      0        1   \n",
       "2          25   100    1   60     9      0.0       0      0      0        1   \n",
       "3          25   100    0   34     9  17000.0       0      0      0        0   \n",
       "4          25   100    0   28     9  19300.0       0      0      0        1   \n",
       "241825     25   900    1   47     9  37000.0       0      0      0        0   \n",
       "241826     25   900    1   62     4      0.0       0      0      0        1   \n",
       "241827     25   900    0   78    10  16700.0       0      0      0        1   \n",
       "241828     25   900    1   48    13  36950.0       0      0      0        0   \n",
       "241829     25   900    0   34    13  35000.0       0      0      0        0   \n",
       "\n",
       "        divorced  uscitizen  children  disability  militaryservice  employed  \\\n",
       "0              0          1         0           0                0         1   \n",
       "1              0          1         0           1                0         0   \n",
       "2              0          1         0           0                0         0   \n",
       "3              0          1         0           0                0         1   \n",
       "4              0          1         0           0                1         1   \n",
       "241825         1          1         0           1                0         1   \n",
       "241826         0          1         0           0                0         0   \n",
       "241827         0          1         0           1                1         0   \n",
       "241828         1          1         0           1                0         1   \n",
       "241829         0          1         0           0                0         0   \n",
       "\n",
       "        englishability   fips  \n",
       "0                    1  25003  \n",
       "1                    1  25003  \n",
       "2                    1  25003  \n",
       "3                    1  25003  \n",
       "4                    1  25003  \n",
       "241825               1  25009  \n",
       "241826               1  25009  \n",
       "241827               1  25009  \n",
       "241828               1  25009  \n",
       "241829               1  25009  "
      ]
     },
     "execution_count": 9,
     "metadata": {},
     "output_type": "execute_result"
    }
   ],
   "source": [
    "pd.get_option(\"display.max_columns\")\n",
    "pd.set_option('display.max_colwidth', 300)\n",
    "data_original.head(5).append(data_original.tail(5))"
   ]
  },
  {
   "cell_type": "code",
   "execution_count": 10,
   "id": "10026755",
   "metadata": {},
   "outputs": [
    {
     "data": {
      "text/html": [
       "<div>\n",
       "<style scoped>\n",
       "    .dataframe tbody tr th:only-of-type {\n",
       "        vertical-align: middle;\n",
       "    }\n",
       "\n",
       "    .dataframe tbody tr th {\n",
       "        vertical-align: top;\n",
       "    }\n",
       "\n",
       "    .dataframe thead th {\n",
       "        text-align: right;\n",
       "    }\n",
       "</style>\n",
       "<table border=\"1\" class=\"dataframe\">\n",
       "  <thead>\n",
       "    <tr style=\"text-align: right;\">\n",
       "      <th></th>\n",
       "      <th>state</th>\n",
       "      <th>puma</th>\n",
       "      <th>sex</th>\n",
       "      <th>age</th>\n",
       "      <th>educ</th>\n",
       "      <th>income</th>\n",
       "      <th>latino</th>\n",
       "      <th>black</th>\n",
       "      <th>asian</th>\n",
       "      <th>married</th>\n",
       "      <th>divorced</th>\n",
       "      <th>uscitizen</th>\n",
       "      <th>children</th>\n",
       "      <th>disability</th>\n",
       "      <th>militaryservice</th>\n",
       "      <th>employed</th>\n",
       "      <th>englishability</th>\n",
       "      <th>fips</th>\n",
       "    </tr>\n",
       "  </thead>\n",
       "  <tbody>\n",
       "    <tr>\n",
       "      <th>0</th>\n",
       "      <td>25.0</td>\n",
       "      <td>711.0</td>\n",
       "      <td>12001.0</td>\n",
       "      <td>0.0</td>\n",
       "      <td>1.0</td>\n",
       "      <td>0.0</td>\n",
       "      <td>0.0</td>\n",
       "      <td>0.0</td>\n",
       "      <td>0.0</td>\n",
       "      <td>1.0</td>\n",
       "      <td>1.0</td>\n",
       "      <td>1.0</td>\n",
       "      <td>1.0</td>\n",
       "      <td>0.0</td>\n",
       "      <td>0.0</td>\n",
       "      <td>2.0</td>\n",
       "      <td>1.0</td>\n",
       "      <td>2557272.0</td>\n",
       "    </tr>\n",
       "    <tr>\n",
       "      <th>1</th>\n",
       "      <td>25.0</td>\n",
       "      <td>2.0</td>\n",
       "      <td>2100.0</td>\n",
       "      <td>0.0</td>\n",
       "      <td>35.0</td>\n",
       "      <td>0.0</td>\n",
       "      <td>0.0</td>\n",
       "      <td>0.0</td>\n",
       "      <td>1.0</td>\n",
       "      <td>0.0</td>\n",
       "      <td>1.0</td>\n",
       "      <td>1.0</td>\n",
       "      <td>1.0</td>\n",
       "      <td>1.0</td>\n",
       "      <td>2.0</td>\n",
       "      <td>1.0</td>\n",
       "      <td>1.0</td>\n",
       "      <td>15011.0</td>\n",
       "    </tr>\n",
       "    <tr>\n",
       "      <th>2</th>\n",
       "      <td>7005.0</td>\n",
       "      <td>0.0</td>\n",
       "      <td>1.0</td>\n",
       "      <td>15.0</td>\n",
       "      <td>1.0</td>\n",
       "      <td>0.0</td>\n",
       "      <td>2.0</td>\n",
       "      <td>0.0</td>\n",
       "      <td>0.0</td>\n",
       "      <td>1.0</td>\n",
       "      <td>1.0</td>\n",
       "      <td>1.0</td>\n",
       "      <td>0.0</td>\n",
       "      <td>1.0</td>\n",
       "      <td>1.0</td>\n",
       "      <td>0.0</td>\n",
       "      <td>6.0</td>\n",
       "      <td>250.0</td>\n",
       "    </tr>\n",
       "    <tr>\n",
       "      <th>3</th>\n",
       "      <td>25.0</td>\n",
       "      <td>25.0</td>\n",
       "      <td>101.0</td>\n",
       "      <td>0.0</td>\n",
       "      <td>0.0</td>\n",
       "      <td>140.0</td>\n",
       "      <td>1.0</td>\n",
       "      <td>0.0</td>\n",
       "      <td>0.0</td>\n",
       "      <td>1.0</td>\n",
       "      <td>0.0</td>\n",
       "      <td>0.0</td>\n",
       "      <td>0.0</td>\n",
       "      <td>0.0</td>\n",
       "      <td>0.0</td>\n",
       "      <td>1.0</td>\n",
       "      <td>0.0</td>\n",
       "      <td>25101.0</td>\n",
       "    </tr>\n",
       "    <tr>\n",
       "      <th>4</th>\n",
       "      <td>45.0</td>\n",
       "      <td>21100.0</td>\n",
       "      <td>1.0</td>\n",
       "      <td>3.0</td>\n",
       "      <td>14.0</td>\n",
       "      <td>1000000.0</td>\n",
       "      <td>0.0</td>\n",
       "      <td>0.0</td>\n",
       "      <td>0.0</td>\n",
       "      <td>0.0</td>\n",
       "      <td>1.0</td>\n",
       "      <td>1.0</td>\n",
       "      <td>1.0</td>\n",
       "      <td>0.0</td>\n",
       "      <td>1.0</td>\n",
       "      <td>1.0</td>\n",
       "      <td>1.0</td>\n",
       "      <td>25.0</td>\n",
       "    </tr>\n",
       "  </tbody>\n",
       "</table>\n",
       "</div>"
      ],
      "text/plain": [
       "    state     puma      sex   age  educ     income  latino  black  asian  \\\n",
       "0    25.0    711.0  12001.0   0.0   1.0        0.0     0.0    0.0    0.0   \n",
       "1    25.0      2.0   2100.0   0.0  35.0        0.0     0.0    0.0    1.0   \n",
       "2  7005.0      0.0      1.0  15.0   1.0        0.0     2.0    0.0    0.0   \n",
       "3    25.0     25.0    101.0   0.0   0.0      140.0     1.0    0.0    0.0   \n",
       "4    45.0  21100.0      1.0   3.0  14.0  1000000.0     0.0    0.0    0.0   \n",
       "\n",
       "   married  divorced  uscitizen  children  disability  militaryservice  \\\n",
       "0      1.0       1.0        1.0       1.0         0.0              0.0   \n",
       "1      0.0       1.0        1.0       1.0         1.0              2.0   \n",
       "2      1.0       1.0        1.0       0.0         1.0              1.0   \n",
       "3      1.0       0.0        0.0       0.0         0.0              0.0   \n",
       "4      0.0       1.0        1.0       1.0         0.0              1.0   \n",
       "\n",
       "   employed  englishability       fips  \n",
       "0       2.0             1.0  2557272.0  \n",
       "1       1.0             1.0    15011.0  \n",
       "2       0.0             6.0      250.0  \n",
       "3       1.0             0.0    25101.0  \n",
       "4       1.0             1.0       25.0  "
      ]
     },
     "execution_count": 10,
     "metadata": {},
     "output_type": "execute_result"
    }
   ],
   "source": [
    "data_synthetic.head()"
   ]
  },
  {
   "cell_type": "code",
   "execution_count": 11,
   "id": "283bd8dc",
   "metadata": {},
   "outputs": [],
   "source": [
    "# Some preliminary cleaning \n",
    "\n",
    "data_synthetic['latino'] = np.where(data_synthetic['latino'] > 1, 1, data_synthetic['latino'])\n",
    "data_synthetic['latino'] = np.where(data_synthetic['latino'] < 0, 0, data_synthetic['latino'])\n",
    "\n",
    "data_synthetic['black'] = np.where(data_synthetic['black'] > 1, 1, data_synthetic['black'])\n",
    "data_synthetic['black'] = np.where(data_synthetic['black'] < 0, 0, data_synthetic['black'])\n",
    "\n",
    "data_synthetic['asian'] = np.where(data_synthetic['asian'] > 1, 1, data_synthetic['asian'])\n",
    "data_synthetic['asian'] = np.where(data_synthetic['asian'] < 0, 0, data_synthetic['asian'])\n",
    "\n",
    "data_synthetic['married'] = np.where(data_synthetic['married'] > 1, 1, data_synthetic['married'])\n",
    "data_synthetic['married'] = np.where(data_synthetic['married'] < 0, 0, data_synthetic['married'])\n",
    "\n",
    "data_synthetic['divorced'] = np.where(data_synthetic['divorced'] > 1, 1, data_synthetic['divorced'])\n",
    "data_synthetic['divorced'] = np.where(data_synthetic['divorced'] < 0, 0, data_synthetic['divorced'])\n",
    "\n",
    "data_synthetic['children'] = np.where(data_synthetic['children'] > 16, 16, data_synthetic['children'])\n",
    "data_synthetic['children'] = np.where(data_synthetic['children'] < 0, 0, data_synthetic['children'])\n",
    "\n",
    "data_synthetic['disability'] = np.where(data_synthetic['disability'] > 1, 1, data_synthetic['disability'])\n",
    "data_synthetic['disability'] = np.where(data_synthetic['disability'] < 0, 0, data_synthetic['disability'])\n",
    "\n",
    "data_synthetic['divorced'] = np.where(data_synthetic['divorced'] > 1, 1, data_synthetic['divorced'])\n",
    "data_synthetic['divorced'] = np.where(data_synthetic['divorced'] < 0, 0, data_synthetic['divorced'])\n",
    "\n",
    "data_synthetic['militaryservice'] = np.where(data_synthetic['militaryservice'] > 1, 1, data_synthetic['militaryservice'])\n",
    "data_synthetic['militaryservice'] = np.where(data_synthetic['militaryservice'] < 0, 0, data_synthetic['militaryservice'])\n",
    "\n",
    "data_synthetic['employed'] = np.where(data_synthetic['employed'] > 1, 1, data_synthetic['employed'])\n",
    "data_synthetic['employed'] = np.where(data_synthetic['employed'] < 0, 0, data_synthetic['employed'])\n",
    "\n",
    "data_synthetic['englishability'] = np.where(data_synthetic['englishability'] > 1, 1, data_synthetic['englishability'])\n",
    "data_synthetic['englishability'] = np.where(data_synthetic['englishability'] < 0, 0, data_synthetic['englishability'])\n",
    "\n",
    "data_synthetic['age'] = np.where(data_synthetic['age'] > 100, 100, data_synthetic['age'])\n",
    "data_synthetic['age'] = np.where(data_synthetic['age'] < 0, 0, data_synthetic['age'])\n",
    "\n",
    "data_synthetic['educ'] = np.where(data_synthetic['educ'] > 16, 16, data_synthetic['educ'])\n",
    "data_synthetic['educ'] = np.where(data_synthetic['educ'] < 1, 1, data_synthetic['educ'])\n",
    "\n",
    "data_synthetic['sex'] = np.where(data_synthetic['sex'] > 1, 1, data_synthetic['sex'])\n",
    "data_synthetic['sex'] = np.where(data_synthetic['sex'] < 0, 0, data_synthetic['sex'])\n",
    "\n",
    "#data_synthetic['income'] = data_synthetic['income'].str.replace(r'[^\\w\\s]+', '')\n",
    "data_synthetic['income'] = pd.to_numeric(data_synthetic['income'])\n",
    "\n",
    "data_original['income'] = pd.to_numeric(data_original['income'])"
   ]
  },
  {
   "cell_type": "markdown",
   "id": "106d4b4f",
   "metadata": {},
   "source": [
    "### Queries"
   ]
  },
  {
   "cell_type": "markdown",
   "id": "ab93fd85",
   "metadata": {},
   "source": [
    "Here we compare the range of the **income** variable between datasets. "
   ]
  },
  {
   "cell_type": "code",
   "execution_count": 12,
   "id": "d5378566",
   "metadata": {},
   "outputs": [],
   "source": [
    "max_arr = []\n",
    "min_arr = []\n",
    "mean_arr = []\n",
    "\n",
    "num_samples = 5000\n",
    "\n",
    "for i in range(1000):\n",
    "    \n",
    "    bootstrap = np.random.choice(data_original.iloc[:, 5], num_samples, replace = True)\n",
    "    max_ = np.max(bootstrap)\n",
    "    min_ = np.min(bootstrap)\n",
    "    mean = np.mean(bootstrap)\n",
    "    \n",
    "    max_arr.append(max_)\n",
    "    min_arr.append(min_)\n",
    "    mean_arr.append(mean)"
   ]
  },
  {
   "cell_type": "code",
   "execution_count": 13,
   "id": "0d85aba0",
   "metadata": {},
   "outputs": [
    {
     "data": {
      "image/png": "[encoded data removed]",
      "text/plain": [
       "<Figure size 432x288 with 1 Axes>"
      ]
     },
     "metadata": {},
     "output_type": "display_data"
    }
   ],
   "source": [
    "ax = sns.boxplot(data=np.array(max_arr))\n",
    "ax.set(xticklabels=[])\n",
    "ax.scatter([0], [np.max(data_synthetic.iloc[:, 5])], color = 'red', label = 'Synthetic Max')\n",
    "plt.legend()\n",
    "ax.set_xlabel('Bootstrap Max Income');"
   ]
  },
  {
   "cell_type": "code",
   "execution_count": 14,
   "id": "3934ef0b",
   "metadata": {},
   "outputs": [
    {
     "data": {
      "text/plain": [
       "573466.4"
      ]
     },
     "execution_count": 14,
     "metadata": {},
     "output_type": "execute_result"
    }
   ],
   "source": [
    "np.mean(max_arr)"
   ]
  },
  {
   "cell_type": "code",
   "execution_count": 15,
   "id": "94d871df",
   "metadata": {},
   "outputs": [
    {
     "data": {
      "image/png": "[encoded data removed]",
      "text/plain": [
       "<Figure size 432x288 with 1 Axes>"
      ]
     },
     "metadata": {},
     "output_type": "display_data"
    }
   ],
   "source": [
    "ax = sns.boxplot(data=np.array(min_arr))\n",
    "ax.set(xticklabels=[])\n",
    "ax.scatter([0], [np.min(data_synthetic.iloc[:, 5])], color = 'red', label = 'Synthetic Min')\n",
    "plt.legend()\n",
    "ax.set_xlabel('Bootstrap Min Income');"
   ]
  },
  {
   "cell_type": "markdown",
   "id": "c4fcf670",
   "metadata": {},
   "source": [
    "### Wasserstein Distance"
   ]
  },
  {
   "cell_type": "markdown",
   "id": "4a848223",
   "metadata": {},
   "source": [
    "Here, we'll check the Wassertein distance between **income** arrays."
   ]
  },
  {
   "cell_type": "code",
   "execution_count": 16,
   "id": "12343a3d",
   "metadata": {},
   "outputs": [],
   "source": [
    "from scipy.stats import wasserstein_distance\n",
    "data_synthetic = data_synthetic.dropna()\n",
    "\n",
    "dist_arr = []\n",
    "\n",
    "num_samples = 5000\n",
    "\n",
    "for i in range(1000):\n",
    "    \n",
    "    bootstrap = np.random.choice(data_original.iloc[:, 5], num_samples, replace = True)\n",
    "    dist = wasserstein_distance(bootstrap, data_synthetic.iloc[:, 5])\n",
    "    dist_arr.append(dist)"
   ]
  },
  {
   "cell_type": "code",
   "execution_count": 17,
   "id": "f137f71d",
   "metadata": {},
   "outputs": [
    {
     "name": "stdout",
     "output_type": "stream",
     "text": [
      "Average Wasserstein distance:  18797642.986305527\n"
     ]
    }
   ],
   "source": [
    "print('Average Wasserstein distance: ', np.mean(dist_arr))"
   ]
  },
  {
   "cell_type": "markdown",
   "id": "53f4c985",
   "metadata": {},
   "source": [
    "Does this value make sense? Let's check the average for the income variable."
   ]
  },
  {
   "cell_type": "code",
   "execution_count": 18,
   "id": "ac230079",
   "metadata": {},
   "outputs": [
    {
     "data": {
      "text/plain": [
       "33763.262282799995"
      ]
     },
     "execution_count": 18,
     "metadata": {},
     "output_type": "execute_result"
    }
   ],
   "source": [
    "np.mean(mean_arr)"
   ]
  },
  {
   "cell_type": "code",
   "execution_count": 19,
   "id": "7b49aba9",
   "metadata": {},
   "outputs": [
    {
     "data": {
      "text/plain": [
       "18785655.72588565"
      ]
     },
     "execution_count": 19,
     "metadata": {},
     "output_type": "execute_result"
    }
   ],
   "source": [
    "np.mean(data_synthetic.iloc[:, 5])"
   ]
  },
  {
   "cell_type": "markdown",
   "id": "2a9ea54f",
   "metadata": {},
   "source": [
    "### Covariance of Variables"
   ]
  },
  {
   "cell_type": "markdown",
   "id": "5ff4f1f2",
   "metadata": {},
   "source": [
    "Let's check the dependence between the **age** and **income variable**."
   ]
  },
  {
   "cell_type": "code",
   "execution_count": 20,
   "id": "6e333382",
   "metadata": {},
   "outputs": [],
   "source": [
    "from scipy.stats import pearsonr\n",
    "\n",
    "corr_arr = []\n",
    "\n",
    "num_samples = 5000\n",
    "\n",
    "for i in range(1000):\n",
    "    \n",
    "    bootstrap_age = np.random.choice(data_original.loc[:, 'age'], num_samples, replace = True)\n",
    "    bootstrap_educ = np.random.choice(data_original.loc[:, 'income'], num_samples, replace = True)\n",
    "    \n",
    "    corr, _ = pearsonr(bootstrap_age, bootstrap_educ)\n",
    "    corr_arr.append(corr)"
   ]
  },
  {
   "cell_type": "code",
   "execution_count": 21,
   "id": "921b010f",
   "metadata": {},
   "outputs": [
    {
     "data": {
      "text/plain": [
       "4.288271313204396e-05"
      ]
     },
     "execution_count": 21,
     "metadata": {},
     "output_type": "execute_result"
    }
   ],
   "source": [
    "np.mean(corr_arr)"
   ]
  },
  {
   "cell_type": "code",
   "execution_count": 22,
   "id": "3a864b99",
   "metadata": {},
   "outputs": [],
   "source": [
    "data_synthetic = data_synthetic.dropna()\n",
    "corr, _ = pearsonr(data_synthetic.loc[:, 'age'], data_synthetic.loc[:, 'income'])"
   ]
  },
  {
   "cell_type": "code",
   "execution_count": 23,
   "id": "86a87856",
   "metadata": {},
   "outputs": [
    {
     "data": {
      "text/plain": [
       "-0.0011378027569102628"
      ]
     },
     "execution_count": 23,
     "metadata": {},
     "output_type": "execute_result"
    }
   ],
   "source": [
    "corr"
   ]
  },
  {
   "cell_type": "code",
   "execution_count": 24,
   "id": "90edf885",
   "metadata": {},
   "outputs": [
    {
     "data": {
      "text/plain": [
       "0.0011806854700423068"
      ]
     },
     "execution_count": 24,
     "metadata": {},
     "output_type": "execute_result"
    }
   ],
   "source": [
    "abs(np.mean(corr_arr) - corr)"
   ]
  },
  {
   "cell_type": "markdown",
   "id": "972ea116",
   "metadata": {},
   "source": [
    "**Age** and **income** are independent in both datasets. Now, let's check **age** and **education**."
   ]
  },
  {
   "cell_type": "code",
   "execution_count": 25,
   "id": "0c326fb0",
   "metadata": {},
   "outputs": [
    {
     "name": "stdout",
     "output_type": "stream",
     "text": [
      "p value is 0.0\n",
      "Dependent (reject H0)\n"
     ]
    }
   ],
   "source": [
    "from scipy.stats import chi2_contingency\n",
    "\n",
    "stat, p, dof, expected = chi2_contingency(data_original.loc[:, ['age', 'educ']])\n",
    "  \n",
    "# interpret p-value\n",
    "\n",
    "alpha = 0.05\n",
    "print(\"p value is \" + str(p))\n",
    "if p <= alpha:\n",
    "    print('Dependent (reject H0)')\n",
    "else:\n",
    "    print('Independent (H0 holds true)')\n",
    "    "
   ]
  },
  {
   "cell_type": "code",
   "execution_count": 26,
   "id": "e622feba",
   "metadata": {},
   "outputs": [
    {
     "name": "stdout",
     "output_type": "stream",
     "text": [
      "p value is 0.0\n",
      "Dependent (reject H0)\n"
     ]
    }
   ],
   "source": [
    "stat, p, dof, expected = chi2_contingency(data_synthetic.loc[:, ['age', 'educ']])\n",
    "  \n",
    "# interpret p-value\n",
    "\n",
    "alpha = 0.05\n",
    "print(\"p value is \" + str(p))\n",
    "if p <= alpha:\n",
    "    print('Dependent (reject H0)')\n",
    "else:\n",
    "    print('Independent (H0 holds true)') "
   ]
  },
  {
   "cell_type": "markdown",
   "id": "cfd296ee",
   "metadata": {},
   "source": [
    "**Age** and **education** are dependent in both datasets."
   ]
  },
  {
   "cell_type": "markdown",
   "id": "b49c964c",
   "metadata": {},
   "source": [
    "### Point Estimates"
   ]
  },
  {
   "cell_type": "markdown",
   "id": "e3380627",
   "metadata": {},
   "source": [
    "What's the probability of being male or female?"
   ]
  },
  {
   "cell_type": "code",
   "execution_count": 27,
   "id": "a48eebae",
   "metadata": {},
   "outputs": [],
   "source": [
    "# Probability of being male or female\n",
    "\n",
    "prob_arr = []\n",
    "\n",
    "num_samples = 5000\n",
    "\n",
    "for i in range(1000):\n",
    "    \n",
    "    bootstrap = np.random.choice(data_original.loc[:, 'sex'], num_samples, replace = True)\n",
    "    unique, counts = np.unique(bootstrap, return_counts=True)\n",
    "    prob_arr.append(counts/num_samples)"
   ]
  },
  {
   "cell_type": "code",
   "execution_count": 28,
   "id": "4789e3ca",
   "metadata": {},
   "outputs": [
    {
     "data": {
      "image/png": "[encoded data removed]",
      "text/plain": [
       "<Figure size 432x288 with 1 Axes>"
      ]
     },
     "metadata": {},
     "output_type": "display_data"
    }
   ],
   "source": [
    "ax = sns.boxplot(data=np.array(prob_arr), color = 'b')\n",
    "ax.set(xticklabels=[0, 1])\n",
    "unique, synt_counts = np.unique(data_synthetic.loc[:, 'sex'], return_counts=True)\n",
    "ax.scatter([0, 1], synt_counts/len(data_synthetic), color = 'red', label = 'Synthetic Prob')\n",
    "plt.legend();\n",
    "ax.set_xlabel('Bootstrap Probabilities');"
   ]
  },
  {
   "cell_type": "markdown",
   "id": "03f93730",
   "metadata": {},
   "source": [
    "For this variable we know the ground truth should be around 0.5. The results of the synthetic data are a bit off!"
   ]
  }
 ],
 "metadata": {
  "kernelspec": {
   "display_name": "Python 3",
   "language": "python",
   "name": "python3"
  },
  "language_info": {
   "codemirror_mode": {
    "name": "ipython",
    "version": 3
   },
   "file_extension": ".py",
   "mimetype": "text/x-python",
   "name": "python",
   "nbconvert_exporter": "python",
   "pygments_lexer": "ipython3",
   "version": "3.8.8"
  }
 },
 "nbformat": 4,
 "nbformat_minor": 5
}
