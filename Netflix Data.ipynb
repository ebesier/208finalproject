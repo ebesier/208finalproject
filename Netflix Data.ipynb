{
 "cells": [
  {
   "cell_type": "code",
   "execution_count": 295,
   "id": "0992513d",
   "metadata": {},
   "outputs": [],
   "source": [
    "import seaborn as sns\n",
    "import numpy as np\n",
    "import matplotlib.pyplot as plt\n",
    "import pandas as pd"
   ]
  },
  {
   "cell_type": "code",
   "execution_count": 296,
   "id": "40f6a295",
   "metadata": {},
   "outputs": [
    {
     "data": {
      "text/html": [
       "<div>\n",
       "<style scoped>\n",
       "    .dataframe tbody tr th:only-of-type {\n",
       "        vertical-align: middle;\n",
       "    }\n",
       "\n",
       "    .dataframe tbody tr th {\n",
       "        vertical-align: top;\n",
       "    }\n",
       "\n",
       "    .dataframe thead th {\n",
       "        text-align: right;\n",
       "    }\n",
       "</style>\n",
       "<table border=\"1\" class=\"dataframe\">\n",
       "  <thead>\n",
       "    <tr style=\"text-align: right;\">\n",
       "      <th></th>\n",
       "      <th>epoch</th>\n",
       "      <th>loss</th>\n",
       "      <th>accuracy</th>\n",
       "      <th>val_loss</th>\n",
       "      <th>val_accuracy</th>\n",
       "      <th>epsilon</th>\n",
       "      <th>delta</th>\n",
       "      <th>best</th>\n",
       "    </tr>\n",
       "  </thead>\n",
       "  <tbody>\n",
       "    <tr>\n",
       "      <th>0</th>\n",
       "      <td>0</td>\n",
       "      <td>2.4508</td>\n",
       "      <td>0.1602</td>\n",
       "      <td>2.3879</td>\n",
       "      <td>0.1698</td>\n",
       "      <td>0.0287</td>\n",
       "      <td>0.0</td>\n",
       "      <td>0</td>\n",
       "    </tr>\n",
       "    <tr>\n",
       "      <th>1</th>\n",
       "      <td>1</td>\n",
       "      <td>2.3160</td>\n",
       "      <td>0.2118</td>\n",
       "      <td>2.2018</td>\n",
       "      <td>0.2507</td>\n",
       "      <td>65.4878</td>\n",
       "      <td>0.0</td>\n",
       "      <td>0</td>\n",
       "    </tr>\n",
       "    <tr>\n",
       "      <th>2</th>\n",
       "      <td>2</td>\n",
       "      <td>2.2661</td>\n",
       "      <td>0.2336</td>\n",
       "      <td>2.1209</td>\n",
       "      <td>0.2833</td>\n",
       "      <td>72.3163</td>\n",
       "      <td>0.0</td>\n",
       "      <td>0</td>\n",
       "    </tr>\n",
       "    <tr>\n",
       "      <th>3</th>\n",
       "      <td>3</td>\n",
       "      <td>2.2378</td>\n",
       "      <td>0.2491</td>\n",
       "      <td>2.0794</td>\n",
       "      <td>0.2956</td>\n",
       "      <td>79.1449</td>\n",
       "      <td>0.0</td>\n",
       "      <td>0</td>\n",
       "    </tr>\n",
       "    <tr>\n",
       "      <th>4</th>\n",
       "      <td>4</td>\n",
       "      <td>2.2203</td>\n",
       "      <td>0.2586</td>\n",
       "      <td>2.0383</td>\n",
       "      <td>0.3062</td>\n",
       "      <td>85.9735</td>\n",
       "      <td>0.0</td>\n",
       "      <td>0</td>\n",
       "    </tr>\n",
       "  </tbody>\n",
       "</table>\n",
       "</div>"
      ],
      "text/plain": [
       "   epoch    loss  accuracy  val_loss  val_accuracy  epsilon  delta  best\n",
       "0      0  2.4508    0.1602    2.3879        0.1698   0.0287    0.0     0\n",
       "1      1  2.3160    0.2118    2.2018        0.2507  65.4878    0.0     0\n",
       "2      2  2.2661    0.2336    2.1209        0.2833  72.3163    0.0     0\n",
       "3      3  2.2378    0.2491    2.0794        0.2956  79.1449    0.0     0\n",
       "4      4  2.2203    0.2586    2.0383        0.3062  85.9735    0.0     0"
      ]
     },
     "execution_count": 296,
     "metadata": {},
     "output_type": "execute_result"
    }
   ],
   "source": [
    "hist = pd.read_csv(\"https://raw.githubusercontent.com/bialasann/CS208_data/main/checkpoints/model_history.csv\")\n",
    "hist.head()"
   ]
  },
  {
   "cell_type": "code",
   "execution_count": 297,
   "id": "9ef5ead1",
   "metadata": {},
   "outputs": [
    {
     "data": {
      "image/png": "[encoded data removed]",
      "text/plain": [
       "<Figure size 432x288 with 1 Axes>"
      ]
     },
     "metadata": {},
     "output_type": "display_data"
    }
   ],
   "source": [
    "# Plot epsilon growth. Values copied and pasted from model_history.csv. \n",
    "sns.set()\n",
    "\n",
    "x = hist[['epoch']]\n",
    "y = hist[['epsilon']]\n",
    "\n",
    "plt.plot(x, y)\n",
    "plt.xlabel('epoch')\n",
    "plt.ylabel(r'$\\epsilon$')\n",
    "plt.title('Privacy over Epochs');"
   ]
  },
  {
   "cell_type": "code",
   "execution_count": 300,
   "id": "8a3e3fba",
   "metadata": {},
   "outputs": [
    {
     "data": {
      "image/png": "[encoded data removed]",
      "text/plain": [
       "<Figure size 432x288 with 1 Axes>"
      ]
     },
     "metadata": {},
     "output_type": "display_data"
    }
   ],
   "source": [
    "sns.set()\n",
    "\n",
    "x = hist[['epoch']]\n",
    "y = hist[['loss']]\n",
    "\n",
    "plt.plot(x, y)\n",
    "plt.xlabel('epoch')\n",
    "plt.ylabel('loss')\n",
    "plt.title('Loss over Epochs');"
   ]
  },
  {
   "cell_type": "code",
   "execution_count": 81,
   "id": "be0cf4d1",
   "metadata": {},
   "outputs": [],
   "source": [
    "# Read in Netflix data\n",
    "data_original = pd.read_csv(\"https://gretel-public-website.s3.amazonaws.com/datasets/netflix/netflix.txt\", header = None)"
   ]
  },
  {
   "cell_type": "code",
   "execution_count": 70,
   "id": "16fab0cf",
   "metadata": {},
   "outputs": [],
   "source": [
    "num_samples = int(len(data_original) * .1)"
   ]
  },
  {
   "cell_type": "code",
   "execution_count": 71,
   "id": "1bbe052e",
   "metadata": {},
   "outputs": [
    {
     "name": "stdout",
     "output_type": "stream",
     "text": [
      "2405376\n"
     ]
    }
   ],
   "source": [
    "print(num_samples)"
   ]
  },
  {
   "cell_type": "code",
   "execution_count": 72,
   "id": "28c5961a",
   "metadata": {},
   "outputs": [],
   "source": [
    "# Sample from original data\n",
    "\n",
    "data_original = data_original.sample(n=num_samples, random_state=1)"
   ]
  },
  {
   "cell_type": "code",
   "execution_count": 120,
   "id": "0da04fcf",
   "metadata": {},
   "outputs": [],
   "source": [
    "# Read in synthetic data\n",
    "\n",
    "data_synthetic = pd.read_csv(\"https://raw.githubusercontent.com/bialasann/CS208_data/main/syn_data_netflix.txt\", header = None)"
   ]
  },
  {
   "cell_type": "code",
   "execution_count": 121,
   "id": "ebee3976",
   "metadata": {},
   "outputs": [],
   "source": [
    "data_original.columns = ['user id', 'movie id', 'rating', 'date']"
   ]
  },
  {
   "cell_type": "code",
   "execution_count": 122,
   "id": "09336d83",
   "metadata": {},
   "outputs": [],
   "source": [
    "data_synthetic.columns = ['user id', 'movie id', 'rating', 'date']"
   ]
  },
  {
   "cell_type": "code",
   "execution_count": 123,
   "id": "9c6af7e3",
   "metadata": {},
   "outputs": [
    {
     "data": {
      "text/html": [
       "<div>\n",
       "<style scoped>\n",
       "    .dataframe tbody tr th:only-of-type {\n",
       "        vertical-align: middle;\n",
       "    }\n",
       "\n",
       "    .dataframe tbody tr th {\n",
       "        vertical-align: top;\n",
       "    }\n",
       "\n",
       "    .dataframe thead th {\n",
       "        text-align: right;\n",
       "    }\n",
       "</style>\n",
       "<table border=\"1\" class=\"dataframe\">\n",
       "  <thead>\n",
       "    <tr style=\"text-align: right;\">\n",
       "      <th></th>\n",
       "      <th>user id</th>\n",
       "      <th>movie id</th>\n",
       "      <th>rating</th>\n",
       "      <th>date</th>\n",
       "    </tr>\n",
       "  </thead>\n",
       "  <tbody>\n",
       "    <tr>\n",
       "      <th>0</th>\n",
       "      <td>1</td>\n",
       "      <td>1488844</td>\n",
       "      <td>3</td>\n",
       "      <td>2005-09-06</td>\n",
       "    </tr>\n",
       "    <tr>\n",
       "      <th>1</th>\n",
       "      <td>1</td>\n",
       "      <td>822109</td>\n",
       "      <td>5</td>\n",
       "      <td>2005-05-13</td>\n",
       "    </tr>\n",
       "    <tr>\n",
       "      <th>2</th>\n",
       "      <td>1</td>\n",
       "      <td>885013</td>\n",
       "      <td>4</td>\n",
       "      <td>2005-10-19</td>\n",
       "    </tr>\n",
       "    <tr>\n",
       "      <th>3</th>\n",
       "      <td>1</td>\n",
       "      <td>30878</td>\n",
       "      <td>4</td>\n",
       "      <td>2005-12-26</td>\n",
       "    </tr>\n",
       "    <tr>\n",
       "      <th>4</th>\n",
       "      <td>1</td>\n",
       "      <td>823519</td>\n",
       "      <td>3</td>\n",
       "      <td>2004-05-03</td>\n",
       "    </tr>\n",
       "  </tbody>\n",
       "</table>\n",
       "</div>"
      ],
      "text/plain": [
       "   user id  movie id  rating        date\n",
       "0        1   1488844       3  2005-09-06\n",
       "1        1    822109       5  2005-05-13\n",
       "2        1    885013       4  2005-10-19\n",
       "3        1     30878       4  2005-12-26\n",
       "4        1    823519       3  2004-05-03"
      ]
     },
     "execution_count": 123,
     "metadata": {},
     "output_type": "execute_result"
    }
   ],
   "source": [
    "data_original.head()"
   ]
  },
  {
   "cell_type": "code",
   "execution_count": 124,
   "id": "10026755",
   "metadata": {},
   "outputs": [
    {
     "data": {
      "text/html": [
       "<div>\n",
       "<style scoped>\n",
       "    .dataframe tbody tr th:only-of-type {\n",
       "        vertical-align: middle;\n",
       "    }\n",
       "\n",
       "    .dataframe tbody tr th {\n",
       "        vertical-align: top;\n",
       "    }\n",
       "\n",
       "    .dataframe thead th {\n",
       "        text-align: right;\n",
       "    }\n",
       "</style>\n",
       "<table border=\"1\" class=\"dataframe\">\n",
       "  <thead>\n",
       "    <tr style=\"text-align: right;\">\n",
       "      <th></th>\n",
       "      <th>user id</th>\n",
       "      <th>movie id</th>\n",
       "      <th>rating</th>\n",
       "      <th>date</th>\n",
       "    </tr>\n",
       "  </thead>\n",
       "  <tbody>\n",
       "    <tr>\n",
       "      <th>0</th>\n",
       "      <td>88</td>\n",
       "      <td>121009</td>\n",
       "      <td>4</td>\n",
       "      <td>2005-07-05</td>\n",
       "    </tr>\n",
       "    <tr>\n",
       "      <th>1</th>\n",
       "      <td>2</td>\n",
       "      <td>2238537</td>\n",
       "      <td>4</td>\n",
       "      <td>2005-02-28</td>\n",
       "    </tr>\n",
       "    <tr>\n",
       "      <th>2</th>\n",
       "      <td>1058</td>\n",
       "      <td>1</td>\n",
       "      <td>4</td>\n",
       "      <td>2003-04-22</td>\n",
       "    </tr>\n",
       "    <tr>\n",
       "      <th>3</th>\n",
       "      <td>28</td>\n",
       "      <td>3187</td>\n",
       "      <td>3</td>\n",
       "      <td>2005-01-12</td>\n",
       "    </tr>\n",
       "    <tr>\n",
       "      <th>4</th>\n",
       "      <td>21</td>\n",
       "      <td>7236756</td>\n",
       "      <td>3</td>\n",
       "      <td>2005-02-05</td>\n",
       "    </tr>\n",
       "  </tbody>\n",
       "</table>\n",
       "</div>"
      ],
      "text/plain": [
       "   user id  movie id  rating        date\n",
       "0       88    121009       4  2005-07-05\n",
       "1        2   2238537       4  2005-02-28\n",
       "2     1058         1       4  2003-04-22\n",
       "3       28      3187       3  2005-01-12\n",
       "4       21   7236756       3  2005-02-05"
      ]
     },
     "execution_count": 124,
     "metadata": {},
     "output_type": "execute_result"
    }
   ],
   "source": [
    "data_synthetic.head()"
   ]
  },
  {
   "cell_type": "code",
   "execution_count": 244,
   "id": "283bd8dc",
   "metadata": {},
   "outputs": [],
   "source": [
    "# Some preliminary cleaning \n",
    "\n",
    "data_synthetic['rating'] = np.where(data_synthetic['rating'] > 5, 5, data_synthetic['rating'])\n",
    "data_synthetic['rating'] = np.where(data_synthetic['rating'] < 1, 1, data_synthetic['rating'])\n",
    "data_synthetic['movie id'] = np.where(data_synthetic['movie id'] < 0, 0, data_synthetic['movie id'])\n",
    "data_synthetic['user id'] = np.where(data_synthetic['user id'] < 0, 0, data_synthetic['user id'])"
   ]
  },
  {
   "cell_type": "markdown",
   "id": "106d4b4f",
   "metadata": {},
   "source": [
    "### Queries"
   ]
  },
  {
   "cell_type": "markdown",
   "id": "ab93fd85",
   "metadata": {},
   "source": [
    "Here we compare various queries: average and median. We'll perform bootstrapping of the original dataset to get an estimate of the true population statistic. "
   ]
  },
  {
   "cell_type": "markdown",
   "id": "4c3c7d6b",
   "metadata": {},
   "source": [
    "#### Count"
   ]
  },
  {
   "cell_type": "code",
   "execution_count": 288,
   "id": "d5378566",
   "metadata": {},
   "outputs": [
    {
     "name": "stdout",
     "output_type": "stream",
     "text": [
      "Population average rating: 3.6015\n",
      "Variance: 0.0012730259999999992\n",
      "Synthetic average rating: 3.503\n",
      "\n",
      "Population median rating: 4.0\n",
      "Variance: 0.0\n",
      "Synthetic median rating: 4.0\n"
     ]
    }
   ],
   "source": [
    "# Compare average, median rating\n",
    "\n",
    "means = []\n",
    "medians = []\n",
    "\n",
    "num_samples = 1000\n",
    "\n",
    "for i in range(1000):\n",
    "    \n",
    "    bootstrap = np.random.choice(data_original.iloc[:, 2], num_samples, replace = True)\n",
    "    mean = np.mean(bootstrap)\n",
    "    means.append(mean)\n",
    "    median = np.median(bootstrap)\n",
    "    medians.append(median)\n",
    "    \n",
    "print('Population average rating:', np.mean(means))\n",
    "print('Variance:', np.var(means))\n",
    "\n",
    "print('Synthetic average rating:', np.mean(data_synthetic.iloc[:, 2]))\n",
    "print()\n",
    "print('Population median rating:', np.mean(medians))\n",
    "print('Variance:', np.var(medians))\n",
    "print('Synthetic median rating:', np.median(data_synthetic.iloc[:, 2]))"
   ]
  },
  {
   "cell_type": "code",
   "execution_count": 289,
   "id": "0d85aba0",
   "metadata": {},
   "outputs": [
    {
     "data": {
      "image/png": "[encoded data removed]",
      "text/plain": [
       "<Figure size 432x288 with 1 Axes>"
      ]
     },
     "metadata": {},
     "output_type": "display_data"
    }
   ],
   "source": [
    "ax = sns.boxplot(data=np.array(means))\n",
    "ax.set(xticklabels=[])\n",
    "ax.scatter([0], [np.mean(data_synthetic.iloc[:, 2])], color = 'red', label = 'Synthetic Mean')\n",
    "plt.legend()\n",
    "ax.set_xlabel('Bootstrap Average Rating');"
   ]
  },
  {
   "cell_type": "code",
   "execution_count": 290,
   "id": "94d871df",
   "metadata": {},
   "outputs": [
    {
     "data": {
      "image/png": "[encoded data removed]",
      "text/plain": [
       "<Figure size 432x288 with 1 Axes>"
      ]
     },
     "metadata": {},
     "output_type": "display_data"
    }
   ],
   "source": [
    "ax = sns.boxplot(data=np.array(medians))\n",
    "ax.set(xticklabels=[])\n",
    "ax.scatter([0], [np.median(data_synthetic.iloc[:, 2])], color = 'red', label = 'Synthetic Median')\n",
    "plt.legend();\n",
    "ax.set_xlabel('Bootstrap Median Rating');"
   ]
  },
  {
   "cell_type": "markdown",
   "id": "c4fcf670",
   "metadata": {},
   "source": [
    "### Total Variation Distance"
   ]
  },
  {
   "cell_type": "markdown",
   "id": "e7f743f8",
   "metadata": {},
   "source": [
    "We're measuring total variation distance of **rating** because our variable is categorical. "
   ]
  },
  {
   "cell_type": "code",
   "execution_count": 293,
   "id": "12343a3d",
   "metadata": {},
   "outputs": [],
   "source": [
    "tvds = []\n",
    "num_samples = 1000\n",
    "\n",
    "for i in range(1000):\n",
    "    \n",
    "    bootstrap = np.random.choice(data_original.iloc[:, 2], num_samples, replace = True)\n",
    "    tvd = 0.5*sum(abs(np.array(bootstrap) - np.array(data_synthetic.iloc[:, 2])))\n",
    "    tvds.append(tvd)"
   ]
  },
  {
   "cell_type": "code",
   "execution_count": 294,
   "id": "f137f71d",
   "metadata": {},
   "outputs": [
    {
     "name": "stdout",
     "output_type": "stream",
     "text": [
      "Average total variation distance:  615.5\n"
     ]
    }
   ],
   "source": [
    "print('Average total variation distance: ', np.mean(tvd))"
   ]
  },
  {
   "cell_type": "markdown",
   "id": "2a9ea54f",
   "metadata": {},
   "source": [
    "### Covariance of Variables"
   ]
  },
  {
   "cell_type": "markdown",
   "id": "a2bfffee",
   "metadata": {},
   "source": [
    "We'll check that the correlation between **movie id** and **rating** is still statistically significant. Our null hypothesis (H0) is that the two variables are independent. "
   ]
  },
  {
   "cell_type": "code",
   "execution_count": 281,
   "id": "f5b6b6d0",
   "metadata": {},
   "outputs": [],
   "source": [
    "from scipy.stats import chi2_contingency"
   ]
  },
  {
   "cell_type": "code",
   "execution_count": 282,
   "id": "afe00b68",
   "metadata": {},
   "outputs": [
    {
     "name": "stdout",
     "output_type": "stream",
     "text": [
      "p value is 0.0\n",
      "Dependent (reject H0)\n"
     ]
    }
   ],
   "source": [
    "stat, p, dof, expected = chi2_contingency(data_original.iloc[:, [1, 2]])\n",
    "  \n",
    "# interpret p-value\n",
    "\n",
    "alpha = 0.05\n",
    "print(\"p value is \" + str(p))\n",
    "if p <= alpha:\n",
    "    print('Dependent (reject H0)')\n",
    "else:\n",
    "    print('Independent (H0 holds true)')"
   ]
  },
  {
   "cell_type": "code",
   "execution_count": 283,
   "id": "1b7e48dd",
   "metadata": {},
   "outputs": [
    {
     "data": {
      "text/plain": [
       "(613728796.3308458,\n",
       " 0.0,\n",
       " 24053763,\n",
       " array([[1.48884295e+06, 4.05305116e+00],\n",
       "        [8.22111762e+05, 2.23802050e+00],\n",
       "        [8.85014591e+05, 2.40925977e+00],\n",
       "        ...,\n",
       "        [5.12539605e+05, 1.39527762e+00],\n",
       "        [9.88963308e+05, 2.69223755e+00],\n",
       "        [1.70441436e+06, 4.63989746e+00]]))"
      ]
     },
     "execution_count": 283,
     "metadata": {},
     "output_type": "execute_result"
    }
   ],
   "source": [
    "stat, p, dof, expected"
   ]
  },
  {
   "cell_type": "code",
   "execution_count": 299,
   "id": "17d55c2f",
   "metadata": {},
   "outputs": [
    {
     "name": "stdout",
     "output_type": "stream",
     "text": [
      "p value is 0.0\n",
      "Dependent (reject H0)\n"
     ]
    }
   ],
   "source": [
    "stat, p, dof, expected = chi2_contingency(data_synthetic.iloc[:, [1, 2]])\n",
    "  \n",
    "# interpret p-value\n",
    "\n",
    "alpha = 0.05\n",
    "print(\"p value is \" + str(p))\n",
    "if p <= alpha:\n",
    "    print('Dependent (reject H0)')\n",
    "else:\n",
    "    print('Independent (H0 holds true)')"
   ]
  },
  {
   "cell_type": "code",
   "execution_count": 285,
   "id": "4f7e2981",
   "metadata": {},
   "outputs": [
    {
     "data": {
      "text/plain": [
       "(24261491197.019638,\n",
       " 0.0,\n",
       " 999,\n",
       " array([[1.21013000e+05, 6.74093379e-05],\n",
       "        [2.23854100e+06, 1.24696162e-03],\n",
       "        [5.00000000e+00, 2.78521059e-09],\n",
       "        ...,\n",
       "        [2.21554190e+07, 1.23415015e-02],\n",
       "        [9.18235099e+06, 5.11495626e-03],\n",
       "        [9.31229999e+05, 5.18734332e-04]]))"
      ]
     },
     "execution_count": 285,
     "metadata": {},
     "output_type": "execute_result"
    }
   ],
   "source": [
    "stat, p, dof, expected"
   ]
  },
  {
   "cell_type": "markdown",
   "id": "b49c964c",
   "metadata": {},
   "source": [
    "### Point Estimates"
   ]
  },
  {
   "cell_type": "markdown",
   "id": "e3380627",
   "metadata": {},
   "source": [
    "What's the probability of receiving a certain review? Here, we compare point estimates of the two distributions. "
   ]
  },
  {
   "cell_type": "code",
   "execution_count": 286,
   "id": "a48eebae",
   "metadata": {},
   "outputs": [],
   "source": [
    "# Probability of receiving each rating \n",
    "\n",
    "prob_arr = []\n",
    "\n",
    "num_samples = 1000\n",
    "\n",
    "for i in range(1000):\n",
    "    \n",
    "    bootstrap = np.random.choice(data_original.iloc[:, 2], num_samples, replace = True)\n",
    "    unique, counts = np.unique(bootstrap, return_counts=True)\n",
    "    prob_arr.append(counts/num_samples)"
   ]
  },
  {
   "cell_type": "code",
   "execution_count": 287,
   "id": "4789e3ca",
   "metadata": {},
   "outputs": [
    {
     "data": {
      "image/png": "[encoded data removed]",
      "text/plain": [
       "<Figure size 432x288 with 1 Axes>"
      ]
     },
     "metadata": {},
     "output_type": "display_data"
    }
   ],
   "source": [
    "ax = sns.boxplot(data=np.array(prob_arr), color = 'b')\n",
    "ax.set(xticklabels=[1, 2, 3, 4, 5])\n",
    "unique, synt_counts = np.unique(data_synthetic.iloc[:, 2], return_counts=True)\n",
    "ax.scatter([0, 1, 2, 3, 4], synt_counts/len(data_synthetic), color = 'red', label = 'Synthetic Prob')\n",
    "plt.legend();\n",
    "ax.set_xlabel('Bootstrap Probabilities');"
   ]
  }
 ],
 "metadata": {
  "kernelspec": {
   "display_name": "Python 3",
   "language": "python",
   "name": "python3"
  },
  "language_info": {
   "codemirror_mode": {
    "name": "ipython",
    "version": 3
   },
   "file_extension": ".py",
   "mimetype": "text/x-python",
   "name": "python",
   "nbconvert_exporter": "python",
   "pygments_lexer": "ipython3",
   "version": "3.8.8"
  }
 },
 "nbformat": 4,
 "nbformat_minor": 5
}
