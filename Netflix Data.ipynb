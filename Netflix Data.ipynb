{
 "cells": [
  {
   "cell_type": "code",
   "execution_count": 1,
   "id": "0992513d",
   "metadata": {},
   "outputs": [],
   "source": [
    "import seaborn as sns\n",
    "import numpy as np\n",
    "import matplotlib.pyplot as plt\n",
    "import pandas as pd"
   ]
  },
  {
   "cell_type": "code",
   "execution_count": 2,
   "id": "40f6a295",
   "metadata": {},
   "outputs": [
    {
     "data": {
      "text/html": [
       "<div>\n",
       "<style scoped>\n",
       "    .dataframe tbody tr th:only-of-type {\n",
       "        vertical-align: middle;\n",
       "    }\n",
       "\n",
       "    .dataframe tbody tr th {\n",
       "        vertical-align: top;\n",
       "    }\n",
       "\n",
       "    .dataframe thead th {\n",
       "        text-align: right;\n",
       "    }\n",
       "</style>\n",
       "<table border=\"1\" class=\"dataframe\">\n",
       "  <thead>\n",
       "    <tr style=\"text-align: right;\">\n",
       "      <th></th>\n",
       "      <th>epoch</th>\n",
       "      <th>loss</th>\n",
       "      <th>accuracy</th>\n",
       "      <th>val_loss</th>\n",
       "      <th>val_accuracy</th>\n",
       "      <th>epsilon</th>\n",
       "      <th>delta</th>\n",
       "      <th>best</th>\n",
       "    </tr>\n",
       "  </thead>\n",
       "  <tbody>\n",
       "    <tr>\n",
       "      <th>0</th>\n",
       "      <td>0</td>\n",
       "      <td>2.4636</td>\n",
       "      <td>0.1584</td>\n",
       "      <td>2.4278</td>\n",
       "      <td>0.1665</td>\n",
       "      <td>0.0287</td>\n",
       "      <td>0.0</td>\n",
       "      <td>0</td>\n",
       "    </tr>\n",
       "    <tr>\n",
       "      <th>1</th>\n",
       "      <td>1</td>\n",
       "      <td>2.3902</td>\n",
       "      <td>0.1901</td>\n",
       "      <td>2.2648</td>\n",
       "      <td>0.2280</td>\n",
       "      <td>13.4923</td>\n",
       "      <td>0.0</td>\n",
       "      <td>0</td>\n",
       "    </tr>\n",
       "    <tr>\n",
       "      <th>2</th>\n",
       "      <td>2</td>\n",
       "      <td>2.3244</td>\n",
       "      <td>0.2154</td>\n",
       "      <td>2.1895</td>\n",
       "      <td>0.2572</td>\n",
       "      <td>15.2527</td>\n",
       "      <td>0.0</td>\n",
       "      <td>0</td>\n",
       "    </tr>\n",
       "    <tr>\n",
       "      <th>3</th>\n",
       "      <td>3</td>\n",
       "      <td>2.3060</td>\n",
       "      <td>0.2241</td>\n",
       "      <td>2.1489</td>\n",
       "      <td>0.2817</td>\n",
       "      <td>16.0385</td>\n",
       "      <td>0.0</td>\n",
       "      <td>0</td>\n",
       "    </tr>\n",
       "    <tr>\n",
       "      <th>4</th>\n",
       "      <td>4</td>\n",
       "      <td>2.2903</td>\n",
       "      <td>0.2341</td>\n",
       "      <td>2.1070</td>\n",
       "      <td>0.2910</td>\n",
       "      <td>16.4964</td>\n",
       "      <td>0.0</td>\n",
       "      <td>0</td>\n",
       "    </tr>\n",
       "    <tr>\n",
       "      <th>5</th>\n",
       "      <td>5</td>\n",
       "      <td>2.2772</td>\n",
       "      <td>0.2399</td>\n",
       "      <td>2.0814</td>\n",
       "      <td>0.3194</td>\n",
       "      <td>16.9543</td>\n",
       "      <td>0.0</td>\n",
       "      <td>0</td>\n",
       "    </tr>\n",
       "    <tr>\n",
       "      <th>6</th>\n",
       "      <td>6</td>\n",
       "      <td>2.2593</td>\n",
       "      <td>0.2471</td>\n",
       "      <td>2.0514</td>\n",
       "      <td>0.3149</td>\n",
       "      <td>17.4122</td>\n",
       "      <td>0.0</td>\n",
       "      <td>0</td>\n",
       "    </tr>\n",
       "    <tr>\n",
       "      <th>7</th>\n",
       "      <td>7</td>\n",
       "      <td>2.2523</td>\n",
       "      <td>0.2531</td>\n",
       "      <td>2.0173</td>\n",
       "      <td>0.3441</td>\n",
       "      <td>17.8700</td>\n",
       "      <td>0.0</td>\n",
       "      <td>0</td>\n",
       "    </tr>\n",
       "    <tr>\n",
       "      <th>8</th>\n",
       "      <td>8</td>\n",
       "      <td>2.2437</td>\n",
       "      <td>0.2572</td>\n",
       "      <td>1.9989</td>\n",
       "      <td>0.3480</td>\n",
       "      <td>18.3279</td>\n",
       "      <td>0.0</td>\n",
       "      <td>0</td>\n",
       "    </tr>\n",
       "    <tr>\n",
       "      <th>9</th>\n",
       "      <td>9</td>\n",
       "      <td>2.2355</td>\n",
       "      <td>0.2637</td>\n",
       "      <td>1.9906</td>\n",
       "      <td>0.3628</td>\n",
       "      <td>18.7858</td>\n",
       "      <td>0.0</td>\n",
       "      <td>0</td>\n",
       "    </tr>\n",
       "    <tr>\n",
       "      <th>10</th>\n",
       "      <td>10</td>\n",
       "      <td>2.2216</td>\n",
       "      <td>0.2730</td>\n",
       "      <td>1.9457</td>\n",
       "      <td>0.3765</td>\n",
       "      <td>19.2437</td>\n",
       "      <td>0.0</td>\n",
       "      <td>0</td>\n",
       "    </tr>\n",
       "    <tr>\n",
       "      <th>11</th>\n",
       "      <td>11</td>\n",
       "      <td>2.2117</td>\n",
       "      <td>0.2779</td>\n",
       "      <td>1.9105</td>\n",
       "      <td>0.3732</td>\n",
       "      <td>19.7016</td>\n",
       "      <td>0.0</td>\n",
       "      <td>0</td>\n",
       "    </tr>\n",
       "    <tr>\n",
       "      <th>12</th>\n",
       "      <td>12</td>\n",
       "      <td>2.2021</td>\n",
       "      <td>0.2846</td>\n",
       "      <td>1.8848</td>\n",
       "      <td>0.3959</td>\n",
       "      <td>20.1595</td>\n",
       "      <td>0.0</td>\n",
       "      <td>0</td>\n",
       "    </tr>\n",
       "    <tr>\n",
       "      <th>13</th>\n",
       "      <td>13</td>\n",
       "      <td>2.1930</td>\n",
       "      <td>0.2898</td>\n",
       "      <td>1.8544</td>\n",
       "      <td>0.4078</td>\n",
       "      <td>20.6174</td>\n",
       "      <td>0.0</td>\n",
       "      <td>0</td>\n",
       "    </tr>\n",
       "    <tr>\n",
       "      <th>14</th>\n",
       "      <td>14</td>\n",
       "      <td>2.1851</td>\n",
       "      <td>0.2953</td>\n",
       "      <td>1.8261</td>\n",
       "      <td>0.4317</td>\n",
       "      <td>21.0753</td>\n",
       "      <td>0.0</td>\n",
       "      <td>0</td>\n",
       "    </tr>\n",
       "  </tbody>\n",
       "</table>\n",
       "</div>"
      ],
      "text/plain": [
       "    epoch    loss  accuracy  val_loss  val_accuracy  epsilon  delta  best\n",
       "0       0  2.4636    0.1584    2.4278        0.1665   0.0287    0.0     0\n",
       "1       1  2.3902    0.1901    2.2648        0.2280  13.4923    0.0     0\n",
       "2       2  2.3244    0.2154    2.1895        0.2572  15.2527    0.0     0\n",
       "3       3  2.3060    0.2241    2.1489        0.2817  16.0385    0.0     0\n",
       "4       4  2.2903    0.2341    2.1070        0.2910  16.4964    0.0     0\n",
       "5       5  2.2772    0.2399    2.0814        0.3194  16.9543    0.0     0\n",
       "6       6  2.2593    0.2471    2.0514        0.3149  17.4122    0.0     0\n",
       "7       7  2.2523    0.2531    2.0173        0.3441  17.8700    0.0     0\n",
       "8       8  2.2437    0.2572    1.9989        0.3480  18.3279    0.0     0\n",
       "9       9  2.2355    0.2637    1.9906        0.3628  18.7858    0.0     0\n",
       "10     10  2.2216    0.2730    1.9457        0.3765  19.2437    0.0     0\n",
       "11     11  2.2117    0.2779    1.9105        0.3732  19.7016    0.0     0\n",
       "12     12  2.2021    0.2846    1.8848        0.3959  20.1595    0.0     0\n",
       "13     13  2.1930    0.2898    1.8544        0.4078  20.6174    0.0     0\n",
       "14     14  2.1851    0.2953    1.8261        0.4317  21.0753    0.0     0"
      ]
     },
     "execution_count": 2,
     "metadata": {},
     "output_type": "execute_result"
    }
   ],
   "source": [
    "hist = pd.read_csv(\"https://raw.githubusercontent.com/ebesier/208finalproject/main/checkpoints_netflix/model_history.csv\")\n",
    "hist.head(15)"
   ]
  },
  {
   "cell_type": "code",
   "execution_count": 3,
   "id": "9ef5ead1",
   "metadata": {},
   "outputs": [
    {
     "data": {
      "image/png": "[encoded data removed]",
      "text/plain": [
       "<Figure size 432x288 with 1 Axes>"
      ]
     },
     "metadata": {},
     "output_type": "display_data"
    }
   ],
   "source": [
    "# Plot epsilon growth. Values copied and pasted from model_history.csv. \n",
    "sns.set()\n",
    "\n",
    "x = hist[['epoch']]\n",
    "y = hist[['epsilon']]\n",
    "\n",
    "plt.plot(x, y)\n",
    "plt.xlabel('epoch')\n",
    "plt.ylabel(r'$\\epsilon$')\n",
    "plt.title('Privacy over Epochs');"
   ]
  },
  {
   "cell_type": "code",
   "execution_count": 4,
   "id": "f94b9cb9",
   "metadata": {},
   "outputs": [
    {
     "data": {
      "image/png": "[encoded data removed]",
      "text/plain": [
       "<Figure size 432x288 with 1 Axes>"
      ]
     },
     "metadata": {},
     "output_type": "display_data"
    }
   ],
   "source": [
    "sns.set()\n",
    "\n",
    "x = hist[['epoch']]\n",
    "y = hist[['loss']]\n",
    "\n",
    "plt.plot(x, y)\n",
    "plt.xlabel('epoch')\n",
    "plt.ylabel('loss')\n",
    "plt.title('Loss over Epochs');"
   ]
  },
  {
   "cell_type": "code",
   "execution_count": 5,
   "id": "be0cf4d1",
   "metadata": {},
   "outputs": [],
   "source": [
    "# Read in Netflix data\n",
    "data_original = pd.read_csv(\"https://gretel-public-website.s3.amazonaws.com/datasets/netflix/netflix.txt\", header = None)"
   ]
  },
  {
   "cell_type": "code",
   "execution_count": 6,
   "id": "16fab0cf",
   "metadata": {},
   "outputs": [],
   "source": [
    "num_samples = int(len(data_original) * .1)"
   ]
  },
  {
   "cell_type": "code",
   "execution_count": 7,
   "id": "1bbe052e",
   "metadata": {},
   "outputs": [
    {
     "name": "stdout",
     "output_type": "stream",
     "text": [
      "2405376\n"
     ]
    }
   ],
   "source": [
    "print(num_samples)"
   ]
  },
  {
   "cell_type": "code",
   "execution_count": 8,
   "id": "28c5961a",
   "metadata": {},
   "outputs": [],
   "source": [
    "# Sample from original data\n",
    "\n",
    "data_original = data_original.sample(n=num_samples, random_state=1)"
   ]
  },
  {
   "cell_type": "code",
   "execution_count": 25,
   "id": "0da04fcf",
   "metadata": {},
   "outputs": [],
   "source": [
    "# Read in synthetic data\n",
    "\n",
    "data_synthetic = pd.read_csv(\"https://raw.githubusercontent.com/ebesier/208finalproject/main/syn_data_netflix.txt\", header = None)"
   ]
  },
  {
   "cell_type": "code",
   "execution_count": 26,
   "id": "ebee3976",
   "metadata": {},
   "outputs": [],
   "source": [
    "data_original.columns = ['user id', 'movie id', 'rating', 'date']"
   ]
  },
  {
   "cell_type": "code",
   "execution_count": 27,
   "id": "09336d83",
   "metadata": {},
   "outputs": [],
   "source": [
    "data_synthetic.columns = ['user id', 'movie id', 'rating', 'date']"
   ]
  },
  {
   "cell_type": "code",
   "execution_count": 28,
   "id": "9c6af7e3",
   "metadata": {},
   "outputs": [
    {
     "data": {
      "text/html": [
       "<div>\n",
       "<style scoped>\n",
       "    .dataframe tbody tr th:only-of-type {\n",
       "        vertical-align: middle;\n",
       "    }\n",
       "\n",
       "    .dataframe tbody tr th {\n",
       "        vertical-align: top;\n",
       "    }\n",
       "\n",
       "    .dataframe thead th {\n",
       "        text-align: right;\n",
       "    }\n",
       "</style>\n",
       "<table border=\"1\" class=\"dataframe\">\n",
       "  <thead>\n",
       "    <tr style=\"text-align: right;\">\n",
       "      <th></th>\n",
       "      <th>user id</th>\n",
       "      <th>movie id</th>\n",
       "      <th>rating</th>\n",
       "      <th>date</th>\n",
       "    </tr>\n",
       "  </thead>\n",
       "  <tbody>\n",
       "    <tr>\n",
       "      <th>1523677</th>\n",
       "      <td>312</td>\n",
       "      <td>898603</td>\n",
       "      <td>4</td>\n",
       "      <td>2004-07-19</td>\n",
       "    </tr>\n",
       "    <tr>\n",
       "      <th>17329556</th>\n",
       "      <td>3333</td>\n",
       "      <td>530619</td>\n",
       "      <td>4</td>\n",
       "      <td>2005-05-04</td>\n",
       "    </tr>\n",
       "    <tr>\n",
       "      <th>6782598</th>\n",
       "      <td>1318</td>\n",
       "      <td>1628484</td>\n",
       "      <td>3</td>\n",
       "      <td>2004-01-07</td>\n",
       "    </tr>\n",
       "    <tr>\n",
       "      <th>5263837</th>\n",
       "      <td>1073</td>\n",
       "      <td>2268573</td>\n",
       "      <td>2</td>\n",
       "      <td>2005-06-21</td>\n",
       "    </tr>\n",
       "    <tr>\n",
       "      <th>8561654</th>\n",
       "      <td>1707</td>\n",
       "      <td>41468</td>\n",
       "      <td>3</td>\n",
       "      <td>2004-09-27</td>\n",
       "    </tr>\n",
       "  </tbody>\n",
       "</table>\n",
       "</div>"
      ],
      "text/plain": [
       "          user id  movie id  rating        date\n",
       "1523677       312    898603       4  2004-07-19\n",
       "17329556     3333    530619       4  2005-05-04\n",
       "6782598      1318   1628484       3  2004-01-07\n",
       "5263837      1073   2268573       2  2005-06-21\n",
       "8561654      1707     41468       3  2004-09-27"
      ]
     },
     "execution_count": 28,
     "metadata": {},
     "output_type": "execute_result"
    }
   ],
   "source": [
    "data_original.head()"
   ]
  },
  {
   "cell_type": "code",
   "execution_count": 29,
   "id": "10026755",
   "metadata": {},
   "outputs": [
    {
     "data": {
      "text/html": [
       "<div>\n",
       "<style scoped>\n",
       "    .dataframe tbody tr th:only-of-type {\n",
       "        vertical-align: middle;\n",
       "    }\n",
       "\n",
       "    .dataframe tbody tr th {\n",
       "        vertical-align: top;\n",
       "    }\n",
       "\n",
       "    .dataframe thead th {\n",
       "        text-align: right;\n",
       "    }\n",
       "</style>\n",
       "<table border=\"1\" class=\"dataframe\">\n",
       "  <thead>\n",
       "    <tr style=\"text-align: right;\">\n",
       "      <th></th>\n",
       "      <th>user id</th>\n",
       "      <th>movie id</th>\n",
       "      <th>rating</th>\n",
       "      <th>date</th>\n",
       "    </tr>\n",
       "  </thead>\n",
       "  <tbody>\n",
       "    <tr>\n",
       "      <th>0</th>\n",
       "      <td>38</td>\n",
       "      <td>227456</td>\n",
       "      <td>2</td>\n",
       "      <td>2005-03-18</td>\n",
       "    </tr>\n",
       "    <tr>\n",
       "      <th>1</th>\n",
       "      <td>5</td>\n",
       "      <td>50</td>\n",
       "      <td>5</td>\n",
       "      <td>2007-06-27</td>\n",
       "    </tr>\n",
       "    <tr>\n",
       "      <th>2</th>\n",
       "      <td>21926342918161</td>\n",
       "      <td>24</td>\n",
       "      <td>4</td>\n",
       "      <td>2004-03-11</td>\n",
       "    </tr>\n",
       "    <tr>\n",
       "      <th>3</th>\n",
       "      <td>11</td>\n",
       "      <td>2845283</td>\n",
       "      <td>4</td>\n",
       "      <td>2005-09-23</td>\n",
       "    </tr>\n",
       "    <tr>\n",
       "      <th>4</th>\n",
       "      <td>50</td>\n",
       "      <td>178619919</td>\n",
       "      <td>2</td>\n",
       "      <td>2005-09-18</td>\n",
       "    </tr>\n",
       "  </tbody>\n",
       "</table>\n",
       "</div>"
      ],
      "text/plain": [
       "          user id   movie id  rating        date\n",
       "0              38     227456       2  2005-03-18\n",
       "1               5         50       5  2007-06-27\n",
       "2  21926342918161         24       4  2004-03-11\n",
       "3              11    2845283       4  2005-09-23\n",
       "4              50  178619919       2  2005-09-18"
      ]
     },
     "execution_count": 29,
     "metadata": {},
     "output_type": "execute_result"
    }
   ],
   "source": [
    "data_synthetic.head()"
   ]
  },
  {
   "cell_type": "code",
   "execution_count": 30,
   "id": "283bd8dc",
   "metadata": {},
   "outputs": [],
   "source": [
    "# Some preliminary cleaning \n",
    "\n",
    "data_synthetic['rating'] = np.where(data_synthetic['rating'] > 5, 5, data_synthetic['rating'])\n",
    "data_synthetic['rating'] = np.where(data_synthetic['rating'] < 1, 1, data_synthetic['rating'])\n",
    "data_synthetic['movie id'] = np.where(data_synthetic['movie id'] < 0, 0, data_synthetic['movie id'])\n",
    "#data_synthetic['user id'] = np.where(data_synthetic['user id'] < 0, 0, data_synthetic['user id'])"
   ]
  },
  {
   "cell_type": "markdown",
   "id": "106d4b4f",
   "metadata": {},
   "source": [
    "### Queries"
   ]
  },
  {
   "cell_type": "markdown",
   "id": "ab93fd85",
   "metadata": {},
   "source": [
    "Here we compare various queries: average and median. We'll perform bootstrapping of the original dataset to get an estimate of the true population statistic. "
   ]
  },
  {
   "cell_type": "markdown",
   "id": "4c3c7d6b",
   "metadata": {},
   "source": [
    "#### Count"
   ]
  },
  {
   "cell_type": "code",
   "execution_count": 31,
   "id": "d5378566",
   "metadata": {},
   "outputs": [
    {
     "name": "stdout",
     "output_type": "stream",
     "text": [
      "Population average rating: 3.5988434\n",
      "Variance: 0.00022201343644000002\n",
      "Synthetic average rating: 3.399359743897559\n",
      "\n",
      "Population median rating: 4.0\n",
      "Variance: 0.0\n",
      "Synthetic median rating: 4.0\n"
     ]
    }
   ],
   "source": [
    "# Compare average, median rating\n",
    "\n",
    "means = []\n",
    "medians = []\n",
    "\n",
    "num_samples = 5000\n",
    "\n",
    "for i in range(1000):\n",
    "    \n",
    "    bootstrap = np.random.choice(data_original.iloc[:, 2], num_samples, replace = True)\n",
    "    mean = np.mean(bootstrap)\n",
    "    means.append(mean)\n",
    "    median = np.median(bootstrap)\n",
    "    medians.append(median)\n",
    "    \n",
    "print('Population average rating:', np.mean(means))\n",
    "print('Variance:', np.var(means))\n",
    "\n",
    "print('Synthetic average rating:', np.mean(data_synthetic.iloc[:, 2]))\n",
    "print()\n",
    "print('Population median rating:', np.mean(medians))\n",
    "print('Variance:', np.var(medians))\n",
    "print('Synthetic median rating:', np.median(data_synthetic.iloc[:, 2]))"
   ]
  },
  {
   "cell_type": "code",
   "execution_count": 32,
   "id": "0d85aba0",
   "metadata": {},
   "outputs": [
    {
     "data": {
      "image/png": "[encoded data removed]",
      "text/plain": [
       "<Figure size 432x288 with 1 Axes>"
      ]
     },
     "metadata": {},
     "output_type": "display_data"
    }
   ],
   "source": [
    "ax = sns.boxplot(data=np.array(means))\n",
    "ax.set(xticklabels=[])\n",
    "ax.scatter([0], [np.mean(data_synthetic.iloc[:, 2])], color = 'red', label = 'Synthetic Mean')\n",
    "plt.legend()\n",
    "ax.set_xlabel('Bootstrap Average Rating');"
   ]
  },
  {
   "cell_type": "code",
   "execution_count": 33,
   "id": "94d871df",
   "metadata": {},
   "outputs": [
    {
     "data": {
      "image/png": "[encoded data removed]",
      "text/plain": [
       "<Figure size 432x288 with 1 Axes>"
      ]
     },
     "metadata": {},
     "output_type": "display_data"
    }
   ],
   "source": [
    "ax = sns.boxplot(data=np.array(medians))\n",
    "ax.set(xticklabels=[])\n",
    "ax.scatter([0], [np.median(data_synthetic.iloc[:, 2])], color = 'red', label = 'Synthetic Median')\n",
    "plt.legend();\n",
    "ax.set_xlabel('Bootstrap Median Rating');"
   ]
  },
  {
   "cell_type": "markdown",
   "id": "c4fcf670",
   "metadata": {},
   "source": [
    "### Total Variation Distance"
   ]
  },
  {
   "cell_type": "markdown",
   "id": "e7f743f8",
   "metadata": {},
   "source": [
    "We're measuring total variation distance of **rating** because our variable is categorical. "
   ]
  },
  {
   "cell_type": "code",
   "execution_count": 34,
   "id": "72825693",
   "metadata": {},
   "outputs": [
    {
     "data": {
      "text/plain": [
       "4998"
      ]
     },
     "execution_count": 34,
     "metadata": {},
     "output_type": "execute_result"
    }
   ],
   "source": [
    "len(data_synthetic.iloc[:, 2])"
   ]
  },
  {
   "cell_type": "code",
   "execution_count": 35,
   "id": "12343a3d",
   "metadata": {},
   "outputs": [],
   "source": [
    "tvds = []\n",
    "num_samples = len(data_synthetic.iloc[:, 2])\n",
    "\n",
    "for i in range(1000):\n",
    "\n",
    "    bootstrap = np.random.choice(data_original.iloc[:, 2], num_samples, replace = True)\n",
    "    tvd = 0.5 * sum(abs(bootstrap- np.array(data_synthetic.iloc[:, 2])))\n",
    "    tvds.append(tvd)"
   ]
  },
  {
   "cell_type": "code",
   "execution_count": 36,
   "id": "f137f71d",
   "metadata": {},
   "outputs": [
    {
     "name": "stdout",
     "output_type": "stream",
     "text": [
      "Average total variation distance:  3348.874\n"
     ]
    }
   ],
   "source": [
    "print('Average total variation distance: ', np.mean(tvds))"
   ]
  },
  {
   "cell_type": "markdown",
   "id": "2a9ea54f",
   "metadata": {},
   "source": [
    "### Covariance of Variables"
   ]
  },
  {
   "cell_type": "markdown",
   "id": "a2bfffee",
   "metadata": {},
   "source": [
    "We'll check that the correlation between **movie id** and **rating** is still statistically significant. Our null hypothesis (H0) is that the two variables are independent. "
   ]
  },
  {
   "cell_type": "code",
   "execution_count": 37,
   "id": "f5b6b6d0",
   "metadata": {},
   "outputs": [],
   "source": [
    "from scipy.stats import chi2_contingency"
   ]
  },
  {
   "cell_type": "code",
   "execution_count": 38,
   "id": "afe00b68",
   "metadata": {},
   "outputs": [
    {
     "name": "stdout",
     "output_type": "stream",
     "text": [
      "p value is 0.0\n",
      "Dependent (reject H0)\n"
     ]
    }
   ],
   "source": [
    "stat, p, dof, expected = chi2_contingency(data_original.iloc[:, [1, 2]])\n",
    "  \n",
    "# interpret p-value\n",
    "\n",
    "alpha = 0.05\n",
    "print(\"p value is \" + str(p))\n",
    "if p <= alpha:\n",
    "    print('Dependent (reject H0)')\n",
    "else:\n",
    "    print('Independent (H0 holds true)')"
   ]
  },
  {
   "cell_type": "code",
   "execution_count": 39,
   "id": "1b7e48dd",
   "metadata": {},
   "outputs": [
    {
     "data": {
      "text/plain": [
       "(56419816.09053055,\n",
       " 0.0,\n",
       " 2405375,\n",
       " array([[8.98604553e+05, 2.44713132e+00],\n",
       "        [5.30621555e+05, 1.44501897e+00],\n",
       "        [1.62848257e+06, 4.43477688e+00],\n",
       "        ...,\n",
       "        [1.45456704e+06, 3.96116017e+00],\n",
       "        [3.35853085e+05, 9.14614334e-01],\n",
       "        [2.47189327e+05, 6.73160115e-01]]))"
      ]
     },
     "execution_count": 39,
     "metadata": {},
     "output_type": "execute_result"
    }
   ],
   "source": [
    "stat, p, dof, expected"
   ]
  },
  {
   "cell_type": "code",
   "execution_count": 40,
   "id": "17d55c2f",
   "metadata": {},
   "outputs": [
    {
     "name": "stdout",
     "output_type": "stream",
     "text": [
      "p value is 0.0\n",
      "Dependent (reject H0)\n"
     ]
    }
   ],
   "source": [
    "stat, p, dof, expected = chi2_contingency(data_synthetic.iloc[:, [1, 2]])\n",
    "  \n",
    "# interpret p-value\n",
    "\n",
    "alpha = 0.05\n",
    "print(\"p value is \" + str(p))\n",
    "if p <= alpha:\n",
    "    print('Dependent (reject H0)')\n",
    "else:\n",
    "    print('Independent (H0 holds true)')"
   ]
  },
  {
   "cell_type": "code",
   "execution_count": 41,
   "id": "4f7e2981",
   "metadata": {},
   "outputs": [
    {
     "data": {
      "text/plain": [
       "(710790122385642.0,\n",
       " 0.0,\n",
       " 4997,\n",
       " array([[2.27458000e+05, 6.29582486e-07],\n",
       "        [5.50000000e+01, 1.52234860e-10],\n",
       "        [2.80000000e+01, 7.75013831e-11],\n",
       "        ...,\n",
       "        [7.00000000e+00, 1.93753458e-11],\n",
       "        [1.87107104e+09, 5.17894976e-03],\n",
       "        [9.00000000e+00, 2.49111589e-11]]))"
      ]
     },
     "execution_count": 41,
     "metadata": {},
     "output_type": "execute_result"
    }
   ],
   "source": [
    "stat, p, dof, expected"
   ]
  },
  {
   "cell_type": "markdown",
   "id": "b49c964c",
   "metadata": {},
   "source": [
    "### Point Estimates"
   ]
  },
  {
   "cell_type": "markdown",
   "id": "e3380627",
   "metadata": {},
   "source": [
    "What's the probability of receiving a certain review? Here, we compare point estimates of the two distributions. "
   ]
  },
  {
   "cell_type": "code",
   "execution_count": 42,
   "id": "a48eebae",
   "metadata": {},
   "outputs": [],
   "source": [
    "# Probability of receiving each rating \n",
    "\n",
    "prob_arr = []\n",
    "\n",
    "num_samples = len(data_synthetic.iloc[:, 2])\n",
    "\n",
    "for i in range(1000):\n",
    "    \n",
    "    bootstrap = np.random.choice(data_original.iloc[:, 2], num_samples, replace = True)\n",
    "    unique, counts = np.unique(bootstrap, return_counts=True)\n",
    "    prob_arr.append(counts/num_samples)"
   ]
  },
  {
   "cell_type": "code",
   "execution_count": 43,
   "id": "4789e3ca",
   "metadata": {},
   "outputs": [
    {
     "data": {
      "image/png": "[encoded data removed]",
      "text/plain": [
       "<Figure size 432x288 with 1 Axes>"
      ]
     },
     "metadata": {},
     "output_type": "display_data"
    }
   ],
   "source": [
    "ax = sns.boxplot(data=np.array(prob_arr), color = 'b')\n",
    "ax.set(xticklabels=[1, 2, 3, 4, 5])\n",
    "unique, synt_counts = np.unique(data_synthetic.iloc[:, 2], return_counts=True)\n",
    "ax.scatter([0, 1, 2, 3, 4], synt_counts/len(data_synthetic), color = 'red', label = 'Synthetic Prob')\n",
    "plt.legend();\n",
    "ax.set_xlabel('Bootstrap Probabilities');"
   ]
  },
  {
   "cell_type": "code",
   "execution_count": null,
   "id": "9d6298a9",
   "metadata": {},
   "outputs": [],
   "source": []
  }
 ],
 "metadata": {
  "kernelspec": {
   "display_name": "Python 3",
   "language": "python",
   "name": "python3"
  },
  "language_info": {
   "codemirror_mode": {
    "name": "ipython",
    "version": 3
   },
   "file_extension": ".py",
   "mimetype": "text/x-python",
   "name": "python",
   "nbconvert_exporter": "python",
   "pygments_lexer": "ipython3",
   "version": "3.8.8"
  }
 },
 "nbformat": 4,
 "nbformat_minor": 5
}
